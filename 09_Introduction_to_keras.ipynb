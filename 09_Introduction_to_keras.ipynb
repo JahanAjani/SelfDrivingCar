{
 "cells": [
  {
   "cell_type": "markdown",
   "metadata": {},
   "source": [
    "### Neural Networks in keras\n",
    "\n",
    "<p>\n",
    "    Keras is built upon tensorflow API's. Keras provides easy to use API's which abtracts major part of model building in tensorflow, thus provide fast prototyping.\n",
    "<p>\n",
    "    Unlike in tensorflow, where you have to provide input dimension as well as output dimensions and perform dot product of weight and input data, keras handles all this and provide you nice wrapper around it. So, let's dive in to build our first keras model."
   ]
  },
  {
   "cell_type": "markdown",
   "metadata": {},
   "source": [
    "#### Sequential Model\n"
   ]
  },
  {
   "cell_type": "code",
   "execution_count": 38,
   "metadata": {},
   "outputs": [],
   "source": [
    "from keras.models import Sequential\n",
    "from keras.layers.core import Dense, Activation, Flatten\n",
    "from keras.optimizers import Adam\n",
    "from keras.losses import categorical_crossentropy\n",
    "from keras.utils import to_categorical\n",
    "import pickle\n",
    "import matplotlib.pyplot as plt\n",
    "import numpy as np"
   ]
  },
  {
   "cell_type": "code",
   "execution_count": 5,
   "metadata": {},
   "outputs": [],
   "source": [
    "#Load traffic sign small data set\n",
    "\n",
    "training_file = \"./dataset/traffic/small_traffic_set/small_train_traffic.p\"\n",
    "test_file = \"./dataset/traffic/small_traffic_set/small_test_traffic.p\"\n",
    "\n",
    "with open(training_file, mode='rb') as f:\n",
    "    train = pickle.load(f)\n",
    "with open(test_file, mode='rb') as f:\n",
    "    test = pickle.load(f)\n",
    "\n",
    "X_train, y_train = train['features'], train['labels']\n",
    "X_test, y_test = test['features'], test['labels']"
   ]
  },
  {
   "cell_type": "code",
   "execution_count": 37,
   "metadata": {},
   "outputs": [
    {
     "name": "stdout",
     "output_type": "stream",
     "text": [
      "num of train examples: 100\n",
      "input image shape: (32, 32, 3)\n",
      "classes: 5\n",
      "[2 2 3 2 4 3 3 3 1 4 2 4 2 5 1 4 5 1 1 1 4 2 1 4 5 3 4 1 3 4 4 5 5 1 4 5 2\n",
      " 5 1 5 3 5 2 2 1 3 5 5 4 2 5 4 3 3 2 5 3 2 3 3 1 5 5 2 1 2 2 2 4 1 5 4 4 5\n",
      " 5 3 1 3 4 3 4 4 5 2 4 1 3 5 4 4 2 5 1 1 2 3 1 3 1 4]\n",
      "num of test examples: 20\n",
      "input image shape: (32, 32, 3)\n"
     ]
    }
   ],
   "source": [
    "num_examples, h, w, c = X_train.shape\n",
    "n_classes  = len(np.unique(y_train))\n",
    "print(\"num of train examples: {}\".format(num_examples))\n",
    "print(\"input image shape: {}\".format((h,w,c)))\n",
    "print(\"classes: {}\".format(n_classes))\n",
    "\n",
    "print(y_train)\n",
    "\n",
    "h, w, c = X_test[0].shape\n",
    "print(\"num of test examples: {}\".format(len(X_test)))\n",
    "print(\"input image shape: {}\".format((h,w,c)))"
   ]
  },
  {
   "cell_type": "code",
   "execution_count": 45,
   "metadata": {},
   "outputs": [
    {
     "ename": "IndexError",
     "evalue": "index 5 is out of bounds for axis 1 with size 5",
     "output_type": "error",
     "traceback": [
      "\u001b[1;31m---------------------------------------------------------------------------\u001b[0m",
      "\u001b[1;31mIndexError\u001b[0m                                Traceback (most recent call last)",
      "\u001b[1;32m<ipython-input-45-4caaba41d40b>\u001b[0m in \u001b[0;36m<module>\u001b[1;34m\u001b[0m\n\u001b[1;32m----> 1\u001b[1;33m \u001b[0my_train_cat\u001b[0m \u001b[1;33m=\u001b[0m \u001b[0mto_categorical\u001b[0m\u001b[1;33m(\u001b[0m\u001b[0my_train\u001b[0m\u001b[1;33m,\u001b[0m \u001b[0mnum_classes\u001b[0m\u001b[1;33m=\u001b[0m\u001b[0mlen\u001b[0m\u001b[1;33m(\u001b[0m\u001b[0mnp\u001b[0m\u001b[1;33m.\u001b[0m\u001b[0munique\u001b[0m\u001b[1;33m(\u001b[0m\u001b[0my_train\u001b[0m\u001b[1;33m)\u001b[0m\u001b[1;33m)\u001b[0m\u001b[1;33m)\u001b[0m\u001b[1;33m\u001b[0m\u001b[1;33m\u001b[0m\u001b[0m\n\u001b[0m\u001b[0;32m      2\u001b[0m \u001b[0mprint\u001b[0m\u001b[1;33m(\u001b[0m\u001b[0my_train_cat\u001b[0m\u001b[1;33m)\u001b[0m\u001b[1;33m\u001b[0m\u001b[1;33m\u001b[0m\u001b[0m\n",
      "\u001b[1;32md:\\projects\\sdc\\sdc36\\lib\\site-packages\\keras\\utils\\np_utils.py\u001b[0m in \u001b[0;36mto_categorical\u001b[1;34m(y, num_classes, dtype)\u001b[0m\n\u001b[0;32m     32\u001b[0m     \u001b[0mn\u001b[0m \u001b[1;33m=\u001b[0m \u001b[0my\u001b[0m\u001b[1;33m.\u001b[0m\u001b[0mshape\u001b[0m\u001b[1;33m[\u001b[0m\u001b[1;36m0\u001b[0m\u001b[1;33m]\u001b[0m\u001b[1;33m\u001b[0m\u001b[1;33m\u001b[0m\u001b[0m\n\u001b[0;32m     33\u001b[0m     \u001b[0mcategorical\u001b[0m \u001b[1;33m=\u001b[0m \u001b[0mnp\u001b[0m\u001b[1;33m.\u001b[0m\u001b[0mzeros\u001b[0m\u001b[1;33m(\u001b[0m\u001b[1;33m(\u001b[0m\u001b[0mn\u001b[0m\u001b[1;33m,\u001b[0m \u001b[0mnum_classes\u001b[0m\u001b[1;33m)\u001b[0m\u001b[1;33m,\u001b[0m \u001b[0mdtype\u001b[0m\u001b[1;33m=\u001b[0m\u001b[0mdtype\u001b[0m\u001b[1;33m)\u001b[0m\u001b[1;33m\u001b[0m\u001b[1;33m\u001b[0m\u001b[0m\n\u001b[1;32m---> 34\u001b[1;33m     \u001b[0mcategorical\u001b[0m\u001b[1;33m[\u001b[0m\u001b[0mnp\u001b[0m\u001b[1;33m.\u001b[0m\u001b[0marange\u001b[0m\u001b[1;33m(\u001b[0m\u001b[0mn\u001b[0m\u001b[1;33m)\u001b[0m\u001b[1;33m,\u001b[0m \u001b[0my\u001b[0m\u001b[1;33m]\u001b[0m \u001b[1;33m=\u001b[0m \u001b[1;36m1\u001b[0m\u001b[1;33m\u001b[0m\u001b[1;33m\u001b[0m\u001b[0m\n\u001b[0m\u001b[0;32m     35\u001b[0m     \u001b[0moutput_shape\u001b[0m \u001b[1;33m=\u001b[0m \u001b[0minput_shape\u001b[0m \u001b[1;33m+\u001b[0m \u001b[1;33m(\u001b[0m\u001b[0mnum_classes\u001b[0m\u001b[1;33m,\u001b[0m\u001b[1;33m)\u001b[0m\u001b[1;33m\u001b[0m\u001b[1;33m\u001b[0m\u001b[0m\n\u001b[0;32m     36\u001b[0m     \u001b[0mcategorical\u001b[0m \u001b[1;33m=\u001b[0m \u001b[0mnp\u001b[0m\u001b[1;33m.\u001b[0m\u001b[0mreshape\u001b[0m\u001b[1;33m(\u001b[0m\u001b[0mcategorical\u001b[0m\u001b[1;33m,\u001b[0m \u001b[0moutput_shape\u001b[0m\u001b[1;33m)\u001b[0m\u001b[1;33m\u001b[0m\u001b[1;33m\u001b[0m\u001b[0m\n",
      "\u001b[1;31mIndexError\u001b[0m: index 5 is out of bounds for axis 1 with size 5"
     ]
    }
   ],
   "source": [
    "y_train_cat = to_categorical(y_train, num_classes=len(np.unique(y_train)))\n",
    "print(y_train_cat)"
   ]
  },
  {
   "cell_type": "code",
   "execution_count": 20,
   "metadata": {},
   "outputs": [
    {
     "data": {
      "image/png": "[encoded data removed]",
      "text/plain": [
       "<Figure size 432x288 with 1 Axes>"
      ]
     },
     "metadata": {
      "needs_background": "light"
     },
     "output_type": "display_data"
    }
   ],
   "source": [
    "hist, bins = np.histogram(y_train, bins=n_classes)\n",
    "width = 0.7 * (bins[1] - bins[0])\n",
    "center = (bins[:-1] + bins[1:]) / 2\n",
    "plt.bar(center, hist, align='center', width=width)\n",
    "plt.show()"
   ]
  },
  {
   "cell_type": "code",
   "execution_count": 46,
   "metadata": {},
   "outputs": [],
   "source": [
    "def keras_model():\n",
    "    # create the Sequential model\n",
    "    model = Sequential()\n",
    "\n",
    "    #1st Layer - Add a flatten layer\n",
    "    model.add(Flatten(input_shape=(32, 32, 3)))\n",
    "\n",
    "    #2nd Layer - Add a fully connected layer\n",
    "    model.add(Dense(100))\n",
    "\n",
    "    #3rd Layer - Add a ReLU activation layer\n",
    "    model.add(Activation('relu'))\n",
    "\n",
    "    #4th Layer - Add a fully connected layer\n",
    "    model.add(Dense(5))\n",
    "\n",
    "    model.add(Activation('relu'))\n",
    "    \n",
    "    model.add(Dense(6, activation='softmax'))\n",
    "    \n",
    "    return model"
   ]
  },
  {
   "cell_type": "code",
   "execution_count": 47,
   "metadata": {},
   "outputs": [
    {
     "name": "stdout",
     "output_type": "stream",
     "text": [
      "_________________________________________________________________\n",
      "Layer (type)                 Output Shape              Param #   \n",
      "=================================================================\n",
      "flatten_3 (Flatten)          (None, 3072)              0         \n",
      "_________________________________________________________________\n",
      "dense_6 (Dense)              (None, 100)               307300    \n",
      "_________________________________________________________________\n",
      "activation_5 (Activation)    (None, 100)               0         \n",
      "_________________________________________________________________\n",
      "dense_7 (Dense)              (None, 5)                 505       \n",
      "_________________________________________________________________\n",
      "activation_6 (Activation)    (None, 5)                 0         \n",
      "_________________________________________________________________\n",
      "dense_8 (Dense)              (None, 6)                 36        \n",
      "=================================================================\n",
      "Total params: 307,841\n",
      "Trainable params: 307,841\n",
      "Non-trainable params: 0\n",
      "_________________________________________________________________\n"
     ]
    }
   ],
   "source": [
    "model = keras_model()\n",
    "model.summary()\n"
   ]
  },
  {
   "cell_type": "code",
   "execution_count": 48,
   "metadata": {},
   "outputs": [],
   "source": [
    "model.compile(optimizer=Adam(),\n",
    "             loss='categorical_crossentropy',\n",
    "             metrics=['accuracy'])"
   ]
  },
  {
   "cell_type": "code",
   "execution_count": 49,
   "metadata": {},
   "outputs": [],
   "source": [
    "batch_size = 128\n",
    "epochs = 20"
   ]
  },
  {
   "cell_type": "code",
   "execution_count": 50,
   "metadata": {},
   "outputs": [
    {
     "name": "stdout",
     "output_type": "stream",
     "text": [
      "Train on 80 samples, validate on 20 samples\n",
      "Epoch 1/20\n",
      "80/80 [==============================] - 4s 53ms/step - loss: 13.1305 - acc: 0.1375 - val_loss: 11.2866 - val_acc: 0.3000\n",
      "Epoch 2/20\n",
      "80/80 [==============================] - 0s 200us/step - loss: 9.2779 - acc: 0.4250 - val_loss: 12.3397 - val_acc: 0.2000\n",
      "Epoch 3/20\n",
      "80/80 [==============================] - 0s 200us/step - loss: 10.6758 - acc: 0.3375 - val_loss: 13.7004 - val_acc: 0.1500\n",
      "Epoch 4/20\n",
      "80/80 [==============================] - 0s 201us/step - loss: 12.4915 - acc: 0.2250 - val_loss: 13.7004 - val_acc: 0.1500\n",
      "Epoch 5/20\n",
      "80/80 [==============================] - 0s 200us/step - loss: 12.4915 - acc: 0.2250 - val_loss: 13.7004 - val_acc: 0.1500\n",
      "Epoch 6/20\n",
      "80/80 [==============================] - 0s 158us/step - loss: 12.4915 - acc: 0.2250 - val_loss: 13.7004 - val_acc: 0.1500\n",
      "Epoch 7/20\n",
      "80/80 [==============================] - 0s 180us/step - loss: 12.4915 - acc: 0.2250 - val_loss: 13.7004 - val_acc: 0.1500\n",
      "Epoch 8/20\n",
      "80/80 [==============================] - 0s 167us/step - loss: 12.4915 - acc: 0.2250 - val_loss: 13.7004 - val_acc: 0.1500\n",
      "Epoch 9/20\n",
      "80/80 [==============================] - 0s 150us/step - loss: 12.4915 - acc: 0.2250 - val_loss: 13.7004 - val_acc: 0.1500\n",
      "Epoch 10/20\n",
      "80/80 [==============================] - 0s 150us/step - loss: 12.4915 - acc: 0.2250 - val_loss: 13.7004 - val_acc: 0.1500\n",
      "Epoch 11/20\n",
      "80/80 [==============================] - 0s 150us/step - loss: 12.4915 - acc: 0.2250 - val_loss: 13.7004 - val_acc: 0.1500\n",
      "Epoch 12/20\n",
      "80/80 [==============================] - 0s 200us/step - loss: 12.4915 - acc: 0.2250 - val_loss: 13.7004 - val_acc: 0.1500\n",
      "Epoch 13/20\n",
      "80/80 [==============================] - 0s 150us/step - loss: 12.4915 - acc: 0.2250 - val_loss: 13.7004 - val_acc: 0.1500\n",
      "Epoch 14/20\n",
      "80/80 [==============================] - 0s 150us/step - loss: 12.4915 - acc: 0.2250 - val_loss: 13.7004 - val_acc: 0.1500\n",
      "Epoch 15/20\n",
      "80/80 [==============================] - 0s 200us/step - loss: 12.4915 - acc: 0.2250 - val_loss: 13.7004 - val_acc: 0.1500\n",
      "Epoch 16/20\n",
      "80/80 [==============================] - 0s 150us/step - loss: 12.4915 - acc: 0.2250 - val_loss: 13.7004 - val_acc: 0.1500\n",
      "Epoch 17/20\n",
      "80/80 [==============================] - 0s 150us/step - loss: 12.4915 - acc: 0.2250 - val_loss: 13.7004 - val_acc: 0.1500\n",
      "Epoch 18/20\n",
      "80/80 [==============================] - 0s 193us/step - loss: 12.4915 - acc: 0.2250 - val_loss: 13.7004 - val_acc: 0.1500\n",
      "Epoch 19/20\n",
      "80/80 [==============================] - 0s 150us/step - loss: 12.4915 - acc: 0.2250 - val_loss: 13.7004 - val_acc: 0.1500\n",
      "Epoch 20/20\n",
      "80/80 [==============================] - 0s 150us/step - loss: 12.4915 - acc: 0.2250 - val_loss: 13.7004 - val_acc: 0.1500\n"
     ]
    }
   ],
   "source": [
    "history = model.fit(X_train, to_categorical(y_train), \n",
    "                    batch_size=batch_size,\n",
    "                   epochs=epochs,\n",
    "                   verbose=1,\n",
    "                   validation_split=0.20)"
   ]
  },
  {
   "cell_type": "code",
   "execution_count": null,
   "metadata": {},
   "outputs": [],
   "source": []
  }
 ],
 "metadata": {
  "kernelspec": {
   "display_name": "sdc",
   "language": "python",
   "name": "sdc"
  },
  "language_info": {
   "codemirror_mode": {
    "name": "ipython",
    "version": 3
   },
   "file_extension": ".py",
   "mimetype": "text/x-python",
   "name": "python",
   "nbconvert_exporter": "python",
   "pygments_lexer": "ipython3",
   "version": "3.6.8"
  }
 },
 "nbformat": 4,
 "nbformat_minor": 2
}
