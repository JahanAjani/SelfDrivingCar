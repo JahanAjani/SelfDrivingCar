{
 "cells": [
  {
   "cell_type": "markdown",
   "metadata": {},
   "source": [
    "## Tensorflow basics"
   ]
  },
  {
   "cell_type": "code",
   "execution_count": 3,
   "metadata": {},
   "outputs": [],
   "source": [
    "import tensorflow as tf"
   ]
  },
  {
   "cell_type": "code",
   "execution_count": 17,
   "metadata": {},
   "outputs": [],
   "source": [
    "x = tf.divide(tf.nn.softmax([1.2,0.9,0.4]), 10)\n",
    "y =  tf.multiply(tf.nn.softmax([1.2,0.9,0.4]), 10)"
   ]
  },
  {
   "cell_type": "code",
   "execution_count": 18,
   "metadata": {},
   "outputs": [
    {
     "name": "stdout",
     "output_type": "stream",
     "text": [
      "[0.04565903 0.03382504 0.02051592]\n",
      "[4.565903  3.382504  2.0515924]\n"
     ]
    }
   ],
   "source": [
    "with tf.Session() as sess:\n",
    "    output1 = sess.run(x)\n",
    "    output2 = sess.run(y)\n",
    "    print(output1)\n",
    "    print(output2)"
   ]
  },
  {
   "cell_type": "markdown",
   "metadata": {},
   "source": [
    "### simple intution behind normalizing of data:\n",
    "\n",
    "In the code below if you add 1e-6 which is very small value multiple times(1e6) and subtract the original value you should get value close to 0.9 ideally 0.99 but he output is 0.95.\n",
    "\n",
    "Next try adding just once and instead of 1e6 times and see the differnece(0.99). with this observation we can say if loss is big or negative the difference will be more than the actual vlaue which means we should always the to keep loss in small range.\n",
    "\n",
    "This can be achieved by normalizing data by zero mean and equal variance. as input is normalized the loss will be low or in range."
   ]
  },
  {
   "cell_type": "code",
   "execution_count": 4,
   "metadata": {},
   "outputs": [
    {
     "name": "stdout",
     "output_type": "stream",
     "text": [
      "0.95367431640625\n"
     ]
    }
   ],
   "source": [
    "a = 1000000000 #a=1\n",
    "for i in range(1000000):\n",
    "    a = a + 1e-6\n",
    "print(a - 1000000000) #print(a-1) output: 0.99"
   ]
  },
  {
   "cell_type": "code",
   "execution_count": null,
   "metadata": {},
   "outputs": [],
   "source": []
  }
 ],
 "metadata": {
  "kernelspec": {
   "display_name": "sdc",
   "language": "python",
   "name": "sdc"
  },
  "language_info": {
   "codemirror_mode": {
    "name": "ipython",
    "version": 3
   },
   "file_extension": ".py",
   "mimetype": "text/x-python",
   "name": "python",
   "nbconvert_exporter": "python",
   "pygments_lexer": "ipython3",
   "version": "3.6.8"
  }
 },
 "nbformat": 4,
 "nbformat_minor": 2
}
