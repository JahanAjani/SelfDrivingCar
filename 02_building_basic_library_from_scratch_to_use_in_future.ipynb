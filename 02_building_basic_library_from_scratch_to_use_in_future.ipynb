{
 "cells": [
  {
   "cell_type": "markdown",
   "metadata": {},
   "source": [
    "# Notebook 2:\n",
    "*Developing basic building blocks to use it as library into our machine learning project.*"
   ]
  },
  {
   "cell_type": "code",
   "execution_count": 1,
   "metadata": {},
   "outputs": [],
   "source": [
    "import numpy as np"
   ]
  },
  {
   "cell_type": "markdown",
   "metadata": {},
   "source": [
    "## Sofmax function:\n",
    "*softmax is activation fuction in nueral network. Softmax is similar to sigmoid fuction, it gives the probability of class to which given input belongs to.*\n",
    "\n",
    "*softmax gives the probabilty always greater or equal to zero, thus converting every negative number to positive value.*\n",
    "\n",
    "formula is simple:\n",
    "\n",
    "f(x) = $(e^x_i)/\\sum(e^x_i)$ "
   ]
  },
  {
   "cell_type": "code",
   "execution_count": 2,
   "metadata": {},
   "outputs": [],
   "source": [
    "# Write a function that takes as input a list of numbers, and returns\n",
    "# the list of values given by the softmax function.\n",
    "# def softmax(L):\n",
    "#     prob_of_class = []\n",
    "#     exp_of_L = np.exp(L)\n",
    "#     sum_exp = np.sum(np.exp(L))\n",
    "#     for i in exp_of_L:\n",
    "#         softmax = i / sum_exp\n",
    "#         prob_of_class.append(softmax)\n",
    "#     return prob_of_class\n",
    "\n",
    "def softmax(L):\n",
    "    expL = np.exp(L)\n",
    "    return np.divide (expL, expL.sum())"
   ]
  },
  {
   "cell_type": "code",
   "execution_count": 3,
   "metadata": {},
   "outputs": [
    {
     "name": "stdout",
     "output_type": "stream",
     "text": [
      "<class 'numpy.ndarray'>\n",
      "[[0.06167067 0.22941523 0.34805277 0.24704006 0.11382128]]\n"
     ]
    }
   ],
   "source": [
    "L = np.random.randn(1,5)\n",
    "print(type(L))\n",
    "soft = softmax(L)\n",
    "print(str(soft))\n"
   ]
  },
  {
   "cell_type": "markdown",
   "metadata": {},
   "source": [
    "## Maximum Likelihood:\n",
    "suppose, there are 2 models\n",
    "given our score, model\n",
    "1. which gives 80% probability to get admission to a university.\n",
    "2. which gives 55% probability to get admission to a university.\n",
    "\n",
    "if we get admitted then we say model 1 is more accurate and if we didn't get admission then model 2 is more accurate as it gives low probability to get admitted.\n",
    "\n",
    "so, Maximum likelihood is the maximum probability given to events that happened to us, whether it is acceptance or rejection."
   ]
  },
  {
   "cell_type": "markdown",
   "metadata": {},
   "source": [
    "## Cross-Entropy\n",
    "So we're getting somewhere, there's definitely a connection between probabilities and error functions, and it's called Cross-Entropy. This concept is tremendously popular in many fields, including Machine Learning. Let's dive more into the formula, and actually code it!\n",
    "\n",
    "\n",
    "Cross entropy measures the error from the probability. if entropy is more means the given events are less likely to happen and vice versa.\n",
    "\n",
    "so p(x1) * p(x2) * p(x3) gives the total chances of this event to occur but as multiplication is expensive and when no. of events increases this leads to very small value and small change in any one input gives drastic change in output.\n",
    "hence, we take natural log.\n",
    "since we are taking logs of probabilities which has to be between  (0,1) and log of values between 0 and 1 is negative number hence we are multiplying the output by -1 to adjust this.\n",
    "\n",
    "0.6*0.2*0.1*0.7=0.0084\n",
    "ln(0.6*0.2*0.1*0.7) = ln(0.6)+ln(0.2)+ln(0.1)+ln(0.7)\n",
    "= -ln(0.6)-ln(0.2)-ln(0.1)-ln(0.7) = 4.8 which means we have big error to reduce."
   ]
  },
  {
   "cell_type": "code",
   "execution_count": 4,
   "metadata": {},
   "outputs": [],
   "source": [
    "# Write a function that takes as input two lists Y, P,\n",
    "# and returns the float corresponding to their cross-entropy.\n",
    "def cross_entropy(Y, P):\n",
    "    Y = np.float(Y)\n",
    "    P = np.float(P)\n",
    "    return -np.sum(Y*np.log(P) + (1-Y)* np.log(1-P))\n",
    "    "
   ]
  },
  {
   "cell_type": "code",
   "execution_count": 5,
   "metadata": {},
   "outputs": [
    {
     "name": "stdout",
     "output_type": "stream",
     "text": [
      "Neural Network output:\n",
      "[0.37754067]\n",
      "Amount of Error:\n",
      "[0.12245933]\n",
      "Change in Weights:\n",
      "[0.0143892 0.0287784]\n"
     ]
    }
   ],
   "source": [
    "def sigmoid(x):\n",
    "    \"\"\"\n",
    "    Calculate sigmoid\n",
    "    \"\"\"\n",
    "    return 1/(1+np.exp(-x))\n",
    "\n",
    "# Derivative of the sigmoid function\n",
    "def sigmoid_prime(x):\n",
    "    return sigmoid(x) * (1 - sigmoid(x))\n",
    "\n",
    "learnrate = 0.5\n",
    "x = np.array([1, 2])\n",
    "y = np.array(0.5)\n",
    "\n",
    "# Initial weights\n",
    "w = np.array([0.5, -0.5])\n",
    "\n",
    "# Calculate one gradient descent step for each weight\n",
    "# TODO: Calculate output of neural network\n",
    "nn_output = sigmoid(np.dot(x, w[:,None]))#W.T of 1D array is equal to W, Hence, [:,None] explicilty rearrange the vector.\n",
    "\n",
    "# TODO: Calculate error of neural network\n",
    "error = y - nn_output\n",
    "\n",
    "# TODO: Calculate change in weights\n",
    "# del_w = learningrate * errorterm * x, where error term is (y-y')f'(sum(w_i * x_i))\n",
    "del_w = learnrate * error * nn_output * (1 - nn_output) * x \n",
    "\n",
    "print('Neural Network output:')\n",
    "print(nn_output)\n",
    "print('Amount of Error:')\n",
    "print(error)\n",
    "print('Change in Weights:')\n",
    "print(del_w)"
   ]
  },
  {
   "cell_type": "markdown",
   "metadata": {},
   "source": [
    "## Multi Layer Perceptron\n",
    "\n",
    "Below we will implement feed forward or commonly know as forward pass in neural network. which is quiet simple as it is just $\\sigma(w_i * x_i)$, where $\\sigma$ is the activation function[sigmoid, softmax, relu,etc]\n"
   ]
  },
  {
   "cell_type": "code",
   "execution_count": 6,
   "metadata": {},
   "outputs": [
    {
     "name": "stdout",
     "output_type": "stream",
     "text": [
      "Hidden-layer Output:\n",
      "[0.43027358 0.51394224 0.47532617]\n",
      "shape: (3,)\n",
      "Output-layer Output:\n",
      "[0.48132483 0.51807437]\n"
     ]
    }
   ],
   "source": [
    "def sigmoid(x):\n",
    "    \"\"\"\n",
    "    Calculate sigmoid\n",
    "    \"\"\"\n",
    "    return 1/(1+np.exp(-x))\n",
    "\n",
    "# Network size\n",
    "N_input = 4\n",
    "N_hidden = 3\n",
    "N_output = 2\n",
    "\n",
    "np.random.seed(5)\n",
    "# Make some fake data\n",
    "X = np.random.randn(4)\n",
    "\n",
    "weights_input_to_hidden = np.random.normal(0, scale=0.1, size=(N_input, N_hidden))\n",
    "weights_hidden_to_output = np.random.normal(0, scale=0.1, size=(N_hidden, N_output))\n",
    "\n",
    "\n",
    "# TODO: Make a forward pass through the network\n",
    "\n",
    "hidden_layer_in = np.dot(X, weights_input_to_hidden)\n",
    "hidden_layer_out = sigmoid(hidden_layer_in)\n",
    "\n",
    "print('Hidden-layer Output:')\n",
    "print(hidden_layer_out)\n",
    "print('shape: {}'.format(hidden_layer_out.shape))\n",
    "\n",
    "output_layer_in = np.dot(hidden_layer_out, weights_hidden_to_output)\n",
    "output_layer_out = sigmoid(output_layer_in)\n",
    "\n",
    "print('Output-layer Output:')\n",
    "print(output_layer_out)"
   ]
  },
  {
   "cell_type": "markdown",
   "metadata": {},
   "source": [
    "## Further readings on Backpropagation in neural network.\n",
    "\n",
    "post by Andrej karpathy on [medium](https://medium.com/@karpathy/yes-you-should-understand-backprop-e2f06eab496b)\n",
    "\n",
    "lecture on backprop on [youtube](https://www.youtube.com/watch?v=59Hbtz7XgjM)"
   ]
  }
 ],
 "metadata": {
  "kernelspec": {
   "display_name": "sdc",
   "language": "python",
   "name": "sdc"
  },
  "language_info": {
   "codemirror_mode": {
    "name": "ipython",
    "version": 3
   },
   "file_extension": ".py",
   "mimetype": "text/x-python",
   "name": "python",
   "nbconvert_exporter": "python",
   "pygments_lexer": "ipython3",
   "version": "3.6.8"
  }
 },
 "nbformat": 4,
 "nbformat_minor": 2
}
