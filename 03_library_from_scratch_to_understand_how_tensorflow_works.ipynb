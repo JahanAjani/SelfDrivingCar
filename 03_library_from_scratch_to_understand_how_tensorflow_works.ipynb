{
 "cells": [
  {
   "cell_type": "markdown",
   "metadata": {},
   "source": [
    "# Notebook 3:\n",
    "writing your own library like tensorflow, A MiniFlow library.\n",
    "\n",
    "Before we start using tensorflow, keras or anyother library, it is best to learn how this library works conceptually. So, to do that we will write our own library - MiniFlow which will work similiarly like tensorFlow. Why this is important? Well, before using this abstractions Isn't it is good to learn how under the hood this library works? forward pass, backprop, derivatives or chain rule?\n",
    "\n",
    "An intellectually curious mind should know this nutss and bolts and that is why we will write our first Neural Network in from scratch."
   ]
  },
  {
   "cell_type": "markdown",
   "metadata": {},
   "source": [
    "## MiniFlow Architecture:\n",
    "\n",
    "Let's consider how to implement this graph structure in MiniFlow. We'll use a Python class to represent a generic node.\n",
    "\n",
    "We know that each node might receive input from multiple other nodes. We also know that each node creates a single output, which will likely be passed to other nodes. Let's add two lists: one to store references to the inbound nodes, and the other to store references to the outbound nodes."
   ]
  },
  {
   "cell_type": "code",
   "execution_count": 3,
   "metadata": {},
   "outputs": [],
   "source": [
    "class Node(object):\n",
    "    def __init__(self, inbound_nodes = []):\n",
    "        #Nodes from which this Node recieves values\n",
    "        self.inbound_nodes = inbound_nodes\n",
    "        #Nodes to which this node pass values\n",
    "        self.outbound_nodes = []\n",
    "        #for each inbound_nodes add this Node as outbound Node.\n",
    "        for inbound_node in self.inbound_nodes:\n",
    "            inbound_node.outbound_nodes.append(self)\n",
    "        #A calculated final value of this Node\n",
    "        self.value = None\n",
    "        \n",
    "    def forward(self):\n",
    "        '''\n",
    "        Forward propagation.\n",
    "        \n",
    "        compute the output value based on 'inbound_nodes' and \n",
    "        store the result in self.value\n",
    "        '''\n",
    "        raise NotImplemented"
   ]
  },
  {
   "cell_type": "markdown",
   "metadata": {},
   "source": [
    "*While Node defines the basic set of properties that every node holds, only specialized subclasses of will end uo in final graph. So, lets build our first subclass which will calculate the value and hold value.*"
   ]
  },
  {
   "cell_type": "code",
   "execution_count": 5,
   "metadata": {},
   "outputs": [],
   "source": [
    "class Input(Node):\n",
    "    def __init__(self):\n",
    "        #An Input Node has no inbound nodes,\n",
    "        #so no need to pass anything to the Node instantiator.\n",
    "        Node.__init__(self)\n",
    "    \n",
    "    def forward(self, value=None):\n",
    "        '''\n",
    "        since Input node is the node which doesn't has any inbound_nodes\n",
    "        this forward method will take value as input and set it self.value\n",
    "        while, other non input Node's forward method will read the value form each inbound_nodes.value\n",
    "        calculate the resultant and store it in self.value.\n",
    "        '''\n",
    "        #overwite the value if one passed in.\n",
    "        if value is not None:\n",
    "            self.value = value"
   ]
  },
  {
   "cell_type": "markdown",
   "metadata": {},
   "source": [
    "*Okay, so far we wrote Input Node which doesn't take any input from other nodes. But itself holds the input to neural network and this value can be set directly by setting Node.vlaue or by passing value to forward method.*\n",
    "\n",
    "*As we know, in nueral networks there are nodes which takes value from such input nodes or hidden nodes perform actual calculation and save it along with passing it to rest of network.*\n",
    "\n",
    "*Okay, Lets implement Add Node which will does exactly this.*"
   ]
  },
  {
   "cell_type": "code",
   "execution_count": 6,
   "metadata": {},
   "outputs": [],
   "source": [
    "class Add(Node):\n",
    "    def __init__(self, inbound_nodes = []):\n",
    "        Node.__init__(self, inbound_nodes)\n",
    "    \n",
    "    def forward(self):\n",
    "        \"\"\"\n",
    "        Note: this method doesn't has value parameter as we supposed to take\n",
    "        values from inbound_nodes and perform calculation.\n",
    "        \"\"\"\n",
    "        for inbound_node in inbound_nodes:\n",
    "                self.value += inbound_node.value\n",
    "        \n",
    "            "
   ]
  },
  {
   "cell_type": "code",
   "execution_count": null,
   "metadata": {},
   "outputs": [],
   "source": []
  }
 ],
 "metadata": {
  "kernelspec": {
   "display_name": "sdc",
   "language": "python",
   "name": "sdc"
  },
  "language_info": {
   "codemirror_mode": {
    "name": "ipython",
    "version": 3
   },
   "file_extension": ".py",
   "mimetype": "text/x-python",
   "name": "python",
   "nbconvert_exporter": "python",
   "pygments_lexer": "ipython3",
   "version": "3.7.0"
  }
 },
 "nbformat": 4,
 "nbformat_minor": 2
}
