{
 "cells": [
  {
   "cell_type": "markdown",
   "metadata": {},
   "source": [
    "# Notebook 3:\n",
    "writing your own library like tensorflow, A MiniFlow library.\n",
    "\n",
    "Before we start using tensorflow, keras or anyother library, it is best to learn how this library works conceptually. So, to do that we will write our own library - MiniFlow which will work similiarly like tensorFlow. Why this is important? Well, before using this abstractions Isn't it is good to learn how under the hood this library works? forward pass, backprop, derivatives or chain rule?\n",
    "\n",
    "An intellectually curious mind should know this nutss and bolts and that is why we will write our first Neural Network in from scratch."
   ]
  },
  {
   "cell_type": "markdown",
   "metadata": {},
   "source": [
    "## MiniFlow Architecture:\n",
    "\n",
    "Let's consider how to implement this graph structure in MiniFlow. We'll use a Python class to represent a generic node.\n",
    "\n",
    "We know that each node might receive input from multiple other nodes. We also know that each node creates a single output, which will likely be passed to other nodes. Let's add two lists: one to store references to the inbound nodes, and the other to store references to the outbound nodes."
   ]
  },
  {
   "cell_type": "code",
   "execution_count": 5,
   "metadata": {},
   "outputs": [],
   "source": [
    "class Node(object):\n",
    "    def __init__(self, inbound_nodes = []):\n",
    "        #Nodes from which this Node recieves values\n",
    "        self.inbound_nodes = inbound_nodes\n",
    "        #Nodes to which this node pass values\n",
    "        self.outbound_nodes = []\n",
    "        #for each inbound_nodes add this Node as outbound Node.\n",
    "        for inbound_node in self.inbound_nodes:\n",
    "            inbound_node.outbound_nodes.append(self)\n",
    "        #A calculated final value of this Node\n",
    "        self.value = None\n",
    "        \n",
    "    def forward(self):\n",
    "        '''\n",
    "        Forward propagation.\n",
    "        \n",
    "        compute the output value based on 'inbound_nodes' and \n",
    "        store the result in self.value\n",
    "        '''\n",
    "        raise NotImplemented"
   ]
  },
  {
   "cell_type": "markdown",
   "metadata": {},
   "source": [
    "*While Node defines the basic set of properties that every node holds, only specialized subclasses of will end uo in final graph. So, lets build our first subclass which will calculate the value and hold value.*"
   ]
  },
  {
   "cell_type": "code",
   "execution_count": 6,
   "metadata": {},
   "outputs": [],
   "source": [
    "class Input(Node):\n",
    "    def __init__(self):\n",
    "        #An Input Node has no inbound nodes,\n",
    "        #so no need to pass anything to the Node instantiator.\n",
    "        Node.__init__(self)\n",
    "    \n",
    "    def forward(self, value=None):\n",
    "        '''\n",
    "        since Input node is the node which doesn't have any inbound_nodes\n",
    "        this forward method will take value as input and set it self.value\n",
    "        while, other non input Node's forward method will read the value form each inbound_nodes.value\n",
    "        calculate the resultant and store it in self.value.\n",
    "        '''\n",
    "        #overwite the value if one passed in.\n",
    "        if value is not None:\n",
    "            self.value = value\n",
    "        return self.value"
   ]
  },
  {
   "cell_type": "markdown",
   "metadata": {},
   "source": [
    "*Okay, so far we wrote Input Node which doesn't take any input from other nodes. But itself holds the input to neural network and this value can be set directly by setting Node.vlaue or by passing value to forward method.*\n",
    "\n",
    "*As we know, in nueral networks there are nodes which takes value from such input nodes or hidden nodes perform actual calculation and save it along with passing it to rest of network.*\n",
    "\n",
    "*Okay, Lets implement Add Node which will does exactly this.*"
   ]
  },
  {
   "cell_type": "code",
   "execution_count": 12,
   "metadata": {},
   "outputs": [],
   "source": [
    "class Add(Node):\n",
    "    def __init__(self, inbound_nodes = []):\n",
    "        Node.__init__(self, inbound_nodes)\n",
    "    \n",
    "    def forward(self):\n",
    "        \"\"\"\n",
    "        Note: this method doesn't has value parameter as we supposed to take\n",
    "        values from inbound_nodes and perform calculation.\n",
    "        \"\"\"\n",
    "        self.value = 0\n",
    "        for inbound_node in self.inbound_nodes:\n",
    "                self.value += inbound_node.value\n",
    "        \n",
    "        return self.value"
   ]
  },
  {
   "cell_type": "markdown",
   "metadata": {},
   "source": [
    "## Forward Propagation:\n",
    "Like in tensorFlow library, we has to create the computation graph first which gets initialized when we pass values to it and call evaluate. It then checks the computation graph, runs through the computation and give us the output. Similiary, we will implement to menthods in the this library.\n",
    "\n",
    "`topological_sort() and forward_pass()`, In order to define the network we need to define the order of operations on nodes. Given the input to some node depends on the output of others, we need to flatten this computation graph in such a way that all the nodes gets evaluated first whose inputs are needed to calculate the output of current node.\n",
    "\n",
    "To resolve this we will implement kahn's Algorithm which will sort the nodes inthe order of their calculation. The input of `topological_sort()` is `feed_dict: a python dict` and the output is `sorted list of nodes`.\n",
    "\n",
    "Then `forward_pass()` will take this `sorted_nodes` list and do a forward pass on each node and gives back the final `output_node` which will contain the final value of the network."
   ]
  },
  {
   "cell_type": "code",
   "execution_count": 13,
   "metadata": {},
   "outputs": [],
   "source": [
    "def topological_sort(feed_dict):\n",
    "    \"\"\"\n",
    "    Sort generic nodes in topological order using Kahn's Algorithm.\n",
    "\n",
    "    `feed_dict`: A dictionary where the key is a `Input` node and the value is the respective value feed to that node.\n",
    "\n",
    "    Returns a list of sorted nodes.\n",
    "    \"\"\"\n",
    "\n",
    "    input_nodes = [n for n in feed_dict.keys()]\n",
    "\n",
    "    G = {}\n",
    "    nodes = [n for n in input_nodes]\n",
    "    while len(nodes) > 0:\n",
    "        n = nodes.pop(0)\n",
    "        if n not in G:\n",
    "            G[n] = {'in': set(), 'out': set()}\n",
    "        for m in n.outbound_nodes:\n",
    "            if m not in G:\n",
    "                G[m] = {'in': set(), 'out': set()}\n",
    "            G[n]['out'].add(m)\n",
    "            G[m]['in'].add(n)\n",
    "            nodes.append(m)\n",
    "\n",
    "    L = []\n",
    "    S = set(input_nodes)\n",
    "    while len(S) > 0:\n",
    "        n = S.pop()\n",
    "\n",
    "        if isinstance(n, Input):\n",
    "            n.value = feed_dict[n]\n",
    "\n",
    "        L.append(n)\n",
    "        for m in n.outbound_nodes:\n",
    "            G[n]['out'].remove(m)\n",
    "            G[m]['in'].remove(n)\n",
    "            # if no other incoming edges add to S\n",
    "            if len(G[m]['in']) == 0:\n",
    "                S.add(m)\n",
    "    return L"
   ]
  },
  {
   "cell_type": "code",
   "execution_count": 14,
   "metadata": {},
   "outputs": [],
   "source": [
    "def forward_pass(output_node, sorted_nodes):\n",
    "    \"\"\"\n",
    "    Performs a forward pass through a list of sorted nodes.\n",
    "\n",
    "    Arguments:\n",
    "\n",
    "        `output_node`: A node in the graph, should be the output node (have no outgoing edges).\n",
    "        `sorted_nodes`: A topologically sorted list of nodes.\n",
    "\n",
    "    Returns the output Node's value\n",
    "    \"\"\"\n",
    "\n",
    "    for n in sorted_nodes:\n",
    "        n.forward()\n",
    "\n",
    "    return output_node.value"
   ]
  },
  {
   "cell_type": "code",
   "execution_count": 18,
   "metadata": {},
   "outputs": [
    {
     "name": "stdout",
     "output_type": "stream",
     "text": [
      "10 + 5 = 23 (according to miniflow)\n"
     ]
    }
   ],
   "source": [
    "\"\"\"\n",
    "This script builds and runs a graph with miniflow.\n",
    "\n",
    "There is no need to change anything to solve this quiz!\n",
    "\n",
    "However, feel free to play with the network! Can you also\n",
    "build a network that solves the equation below?\n",
    "\n",
    "(x + y) + y\n",
    "\"\"\"\n",
    "\n",
    "x, y, z = Input(), Input(), Input()\n",
    "\n",
    "f = Add([x, y, z])\n",
    "\n",
    "feed_dict = {x: 10, y: 5, z:8}\n",
    "\n",
    "sorted_nodes = topological_sort(feed_dict)\n",
    "output = forward_pass(f, sorted_nodes)\n",
    "\n",
    "# NOTE: because topological_sort sets the values for the `Input` nodes we could also access\n",
    "# the value for x with x.value (same goes for y).\n",
    "print(\"{} + {} = {} (according to miniflow)\".format(feed_dict[x], feed_dict[y], output))"
   ]
  },
  {
   "cell_type": "markdown",
   "metadata": {},
   "source": [
    "Congratualtions!, on building your first feed forward nueral network.\n",
    "Next this will be to compare output value:`y'` with true value:`y`, calculate error term and do backprop to adjust the weights to improve the model.\n",
    "\n",
    "\n",
    "## Learning and loss"
   ]
  },
  {
   "cell_type": "code",
   "execution_count": null,
   "metadata": {},
   "outputs": [],
   "source": []
  }
 ],
 "metadata": {
  "kernelspec": {
   "display_name": "sdc",
   "language": "python",
   "name": "sdc"
  },
  "language_info": {
   "codemirror_mode": {
    "name": "ipython",
    "version": 3
   },
   "file_extension": ".py",
   "mimetype": "text/x-python",
   "name": "python",
   "nbconvert_exporter": "python",
   "pygments_lexer": "ipython3",
   "version": "3.7.0"
  }
 },
 "nbformat": 4,
 "nbformat_minor": 2
}
