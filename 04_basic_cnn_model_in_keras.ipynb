{
 "cells": [
  {
   "cell_type": "code",
   "execution_count": 1,
   "metadata": {
    "_cell_guid": "b1076dfc-b9ad-4769-8c92-a6c4dae69d19",
    "_uuid": "8f2839f25d086af736a60e9eeb907d3b93b6e0e5"
   },
   "outputs": [
    {
     "name": "stderr",
     "output_type": "stream",
     "text": [
      "Using TensorFlow backend.\n"
     ]
    }
   ],
   "source": [
    "import numpy as np # linear algebra\n",
    "import pandas as pd # data processing, CSV file I/O (e.g. pd.read_csv)\n",
    "import matplotlib.pyplot as plt\n",
    "import keras\n",
    "from keras.models import Sequential,Model\n",
    "from keras.layers import Conv2D,Dense,Flatten,Dropout, MaxPooling2D,BatchNormalization,LeakyReLU\n",
    "from keras import optimizers\n",
    "from keras.utils.np_utils import to_categorical\n",
    "from keras.callbacks import EarlyStopping\n",
    "import random as rn\n",
    "\n",
    "import os\n",
    "\n",
    "\n"
   ]
  },
  {
   "cell_type": "code",
   "execution_count": 2,
   "metadata": {
    "_uuid": "0e533f47b4c957f4cf47d359aeefe8746b7b1f01",
    "scrolled": true
   },
   "outputs": [],
   "source": [
    "# Load the data\n",
    "train = pd.read_csv(\"./digit-recognizer/train.csv\")\n",
    "test = pd.read_csv(\"./digit-recognizer/test.csv\")"
   ]
  },
  {
   "cell_type": "code",
   "execution_count": 3,
   "metadata": {
    "_uuid": "d9fbf8181a6cf57193e812bb60589504a66d7e5c"
   },
   "outputs": [
    {
     "data": {
      "text/plain": [
       "1    4684\n",
       "7    4401\n",
       "3    4351\n",
       "9    4188\n",
       "2    4177\n",
       "6    4137\n",
       "0    4132\n",
       "4    4072\n",
       "8    4063\n",
       "5    3795\n",
       "Name: label, dtype: int64"
      ]
     },
     "execution_count": 3,
     "metadata": {},
     "output_type": "execute_result"
    }
   ],
   "source": [
    "Y_train = train[\"label\"]\n",
    "\n",
    "# Drop 'label' column\n",
    "X_train = train.drop(labels = [\"label\"],axis = 1) \n",
    "\n",
    "# free some space\n",
    "del train \n",
    "\n",
    "#g = sns.countplot(Y_train)\n",
    "\n",
    "Y_train.value_counts()"
   ]
  },
  {
   "cell_type": "code",
   "execution_count": 4,
   "metadata": {
    "_uuid": "a766e529f0cd14ffc27ea03252d604594f91a5ea"
   },
   "outputs": [],
   "source": [
    "# Normalize the data\n",
    "X_train = X_train / 255.0\n",
    "test = test / 255.0"
   ]
  },
  {
   "cell_type": "code",
   "execution_count": 5,
   "metadata": {
    "_uuid": "ed7841038c70d1074165204ceb05deafd4fe36e9",
    "scrolled": true
   },
   "outputs": [],
   "source": [
    "# Reshape image in 3 dimensions (height = 28px, width = 28px , canal = 1)\n",
    "X_train = X_train.values.reshape(-1,28,28,1)\n",
    "test = test.values.reshape(-1,28,28,1)\n",
    "\n",
    "# Encode labels to one hot vectors (ex : 2 -> [0,0,1,0,0,0,0,0,0,0])\n",
    "Y_train = to_categorical(Y_train, num_classes = 10)"
   ]
  },
  {
   "cell_type": "code",
   "execution_count": 6,
   "metadata": {
    "_uuid": "c03f92b1a3caf15a86fa171be5b1c88bcb6289f5"
   },
   "outputs": [
    {
     "data": {
      "image/png": "[encoded data removed]",
      "text/plain": [
       "<Figure size 432x288 with 1 Axes>"
      ]
     },
     "metadata": {
      "needs_background": "light"
     },
     "output_type": "display_data"
    }
   ],
   "source": [
    "# Some examples\n",
    "g = plt.imshow(X_train[10][:,:,0])"
   ]
  },
  {
   "cell_type": "code",
   "execution_count": 7,
   "metadata": {
    "_uuid": "d0c54a1c3d64fbef84fb39858c80d1faa94fc3f6"
   },
   "outputs": [],
   "source": [
    "def CNNModel(model_num=None):#input dim: 28x28x1\n",
    "    model = Sequential()\n",
    "    model.add(Conv2D(32,(5,5),activation=\"relu\",padding='SAME',input_shape=(28,28,1)))#output dim: 28*28*32\n",
    "    model.add(Conv2D(32,(5,5),activation=\"relu\"))#output dim: 24x24x32\n",
    "    model.add(BatchNormalization())\n",
    "    model.add(MaxPooling2D((2,2)))#output dim: 14x14x32\n",
    "    model.add(Conv2D(64,(5,5),activation=\"relu\"))#10*10*64\n",
    "    model.add(BatchNormalization())\n",
    "    model.add(MaxPooling2D((2,2)))#5*5*64\n",
    "    model.add(Flatten())\n",
    "    model.add(Dropout(0.5))\n",
    "    model.add(Dense(500,activation='relu'))\n",
    "    model.add(Dense(100, activation='relu'))\n",
    "    model.add(Dense(10, activation='softmax'))\n",
    "    \n",
    "    return model"
   ]
  },
  {
   "cell_type": "code",
   "execution_count": 41,
   "metadata": {
    "_cell_guid": "79c7e3d0-c299-4dcb-8224-4455121ee9b0",
    "_uuid": "d629ff2d2480ee46fbb7e2d37f6b5fab8052498a"
   },
   "outputs": [],
   "source": [
    "digitRecon = CNNModel()"
   ]
  },
  {
   "cell_type": "code",
   "execution_count": 42,
   "metadata": {
    "_uuid": "284004dd9adfb9e53a0a3878aaf8d17beadc412e"
   },
   "outputs": [],
   "source": [
    "earlyStopping = EarlyStopping(monitor='acc',\n",
    "                              patience=4)"
   ]
  },
  {
   "cell_type": "code",
   "execution_count": 43,
   "metadata": {
    "_uuid": "a0a6950f98c59884585a6bdff90a4aa4b055822d"
   },
   "outputs": [],
   "source": [
    "\n",
    "digitRecon.compile(optimizer='adam',loss=\"categorical_crossentropy\", metrics=[\"accuracy\"])"
   ]
  },
  {
   "cell_type": "code",
   "execution_count": 44,
   "metadata": {
    "_uuid": "999839ddf4a50672992194371277f8fb74e4a583",
    "scrolled": true
   },
   "outputs": [
    {
     "name": "stdout",
     "output_type": "stream",
     "text": [
      "Epoch 1/10\n",
      "42000/42000 [==============================] - 6s 134us/step - loss: 0.2269 - acc: 0.9317\n",
      "Epoch 2/10\n",
      "42000/42000 [==============================] - 4s 105us/step - loss: 0.0640 - acc: 0.9793\n",
      "Epoch 3/10\n",
      "42000/42000 [==============================] - 4s 104us/step - loss: 0.0433 - acc: 0.9865\n",
      "Epoch 4/10\n",
      "42000/42000 [==============================] - 4s 105us/step - loss: 0.0358 - acc: 0.9889\n",
      "Epoch 5/10\n",
      "42000/42000 [==============================] - 4s 106us/step - loss: 0.0325 - acc: 0.9892\n",
      "Epoch 6/10\n",
      "42000/42000 [==============================] - 4s 103us/step - loss: 0.0227 - acc: 0.9921\n",
      "Epoch 7/10\n",
      "42000/42000 [==============================] - 4s 100us/step - loss: 0.0236 - acc: 0.9922\n",
      "Epoch 8/10\n",
      "42000/42000 [==============================] - 4s 100us/step - loss: 0.0213 - acc: 0.9929\n",
      "Epoch 9/10\n",
      "42000/42000 [==============================] - 4s 100us/step - loss: 0.0227 - acc: 0.9930\n",
      "Epoch 10/10\n",
      "42000/42000 [==============================] - 4s 102us/step - loss: 0.0181 - acc: 0.9943\n"
     ]
    },
    {
     "data": {
      "text/plain": [
       "<keras.callbacks.History at 0x20dd81aea20>"
      ]
     },
     "execution_count": 44,
     "metadata": {},
     "output_type": "execute_result"
    }
   ],
   "source": [
    "digitRecon.fit(X_train,Y_train, epochs = 10, batch_size=256,callbacks=[earlyStopping])"
   ]
  },
  {
   "cell_type": "code",
   "execution_count": 45,
   "metadata": {
    "_uuid": "7d8a170167fb3efb51692d700b1cdbbcb217fcf1"
   },
   "outputs": [],
   "source": [
    "# predict results\n",
    "results = digitRecon.predict(test)\n",
    "\n",
    "# select the indix with the maximum probability\n",
    "results = np.argmax(results,axis = 1)\n",
    "\n",
    "results = pd.Series(results,name=\"Label\")"
   ]
  },
  {
   "cell_type": "code",
   "execution_count": 53,
   "metadata": {
    "_uuid": "0641169b74de17261f34f0a696e47e4758a7abd8"
   },
   "outputs": [
    {
     "data": {
      "text/plain": [
       "Text(0.5, 1.0, 'Predicted value:2')"
      ]
     },
     "execution_count": 53,
     "metadata": {},
     "output_type": "execute_result"
    },
    {
     "data": {
      "image/png": "[encoded data removed]",
      "text/plain": [
       "<Figure size 432x288 with 1 Axes>"
      ]
     },
     "metadata": {
      "needs_background": "light"
     },
     "output_type": "display_data"
    }
   ],
   "source": [
    "#results.head(2)\n",
    "val=rn.randint(0,test.shape[0]-1)\n",
    "plt.imshow(test[val][:,:,0])\n",
    "plt.title(\"Predicted value:\"+str(results[val]))"
   ]
  },
  {
   "cell_type": "code",
   "execution_count": null,
   "metadata": {
    "_uuid": "00813d76996ee15f771591655cb46037333d745d",
    "collapsed": true
   },
   "outputs": [],
   "source": [
    "submission = pd.concat([pd.Series(range(1,28001),name = \"ImageId\"),results],axis = 1)\n",
    "\n",
    "submission.to_csv(\"cnn_mnist_datagen.csv\",index=False)"
   ]
  },
  {
   "cell_type": "code",
   "execution_count": null,
   "metadata": {
    "_uuid": "ce02fe09385adc7240e24ab0299199b1d32d02c0",
    "collapsed": true
   },
   "outputs": [],
   "source": []
  }
 ],
 "metadata": {
  "kernelspec": {
   "display_name": "sdc",
   "language": "python",
   "name": "sdc"
  },
  "language_info": {
   "codemirror_mode": {
    "name": "ipython",
    "version": 3
   },
   "file_extension": ".py",
   "mimetype": "text/x-python",
   "name": "python",
   "nbconvert_exporter": "python",
   "pygments_lexer": "ipython3",
   "version": "3.6.8"
  }
 },
 "nbformat": 4,
 "nbformat_minor": 1
}
